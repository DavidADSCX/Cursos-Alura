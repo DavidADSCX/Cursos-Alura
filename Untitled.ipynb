{
 "cells": [
  {
   "cell_type": "code",
   "execution_count": 1,
   "id": "e59ec371",
   "metadata": {},
   "outputs": [],
   "source": [
    "carros = (\n",
    "    (\n",
    "        'Jetta Variant',\n",
    "        'Motor 4.0 Turbo',\n",
    "        2003,\n",
    "        False,\n",
    "        ('Rodas de liga', 'Travas elétricas', 'Piloto automático')\n",
    "    ),\n",
    "    (\n",
    "        'Passat',\n",
    "        'Motor Diesel',\n",
    "        1991,\n",
    "        True,\n",
    "        ('Central multimídia', 'Teto panorâmico', 'Freios ABS')\n",
    "    )\n",
    ")"
   ]
  },
  {
   "cell_type": "code",
   "execution_count": null,
   "id": "9201310f",
   "metadata": {},
   "outputs": [],
   "source": []
  },
  {
   "cell_type": "code",
   "execution_count": 2,
   "id": "4a6be215",
   "metadata": {},
   "outputs": [
    {
     "name": "stdout",
     "output_type": "stream",
     "text": [
      "Rodas de liga\n",
      "Travas elétricas\n",
      "Piloto automático\n",
      "Central multimídia\n",
      "Teto panorâmico\n",
      "Freios ABS\n"
     ]
    }
   ],
   "source": [
    "for tupla in carros:\n",
    "    for item in tupla[-1]:\n",
    "        print(item)"
   ]
  },
  {
   "cell_type": "code",
   "execution_count": 4,
   "id": "4a8e82b0",
   "metadata": {},
   "outputs": [
    {
     "name": "stdout",
     "output_type": "stream",
     "text": [
      "('Rodas de liga', 'Travas elétricas', 'Piloto automático')\n",
      "('Central multimídia', 'Teto panorâmico', 'Freios ABS')\n"
     ]
    }
   ],
   "source": [
    "for tupla in carros:\n",
    "    print(tupla[-1])"
   ]
  },
  {
   "cell_type": "code",
   "execution_count": 5,
   "id": "53b1ae15",
   "metadata": {},
   "outputs": [
    {
     "name": "stdout",
     "output_type": "stream",
     "text": [
      "Jetta Variant\n",
      "Motor 4.0 Turbo\n",
      "2003\n",
      "False\n",
      "('Rodas de liga', 'Travas elétricas', 'Piloto automático')\n",
      "Passat\n",
      "Motor Diesel\n",
      "1991\n",
      "True\n",
      "('Central multimídia', 'Teto panorâmico', 'Freios ABS')\n"
     ]
    }
   ],
   "source": [
    "for tupla in carros:\n",
    "    for item in tupla:\n",
    "        print(item)"
   ]
  },
  {
   "cell_type": "code",
   "execution_count": 6,
   "id": "1bbc7be8",
   "metadata": {},
   "outputs": [],
   "source": [
    "nome, valor = ('Passat', 2000)"
   ]
  },
  {
   "cell_type": "code",
   "execution_count": 8,
   "id": "067dadd1",
   "metadata": {},
   "outputs": [
    {
     "data": {
      "text/plain": [
       "'Passat'"
      ]
     },
     "execution_count": 8,
     "metadata": {},
     "output_type": "execute_result"
    }
   ],
   "source": [
    "nome"
   ]
  },
  {
   "cell_type": "code",
   "execution_count": 9,
   "id": "e1025e9f",
   "metadata": {},
   "outputs": [
    {
     "data": {
      "text/plain": [
       "2000"
      ]
     },
     "execution_count": 9,
     "metadata": {},
     "output_type": "execute_result"
    }
   ],
   "source": [
    "valor"
   ]
  },
  {
   "cell_type": "code",
   "execution_count": 10,
   "id": "f218cfbb",
   "metadata": {},
   "outputs": [
    {
     "data": {
      "text/plain": [
       "[('Passat', 10000.0), ('Crossfox', 75000.0)]"
      ]
     },
     "execution_count": 10,
     "metadata": {},
     "output_type": "execute_result"
    }
   ],
   "source": [
    "nomes= ['Passat','Crossfox']\n",
    "valores = [10000.0, 75000.0]\n",
    "list(zip(nomes,valores))"
   ]
  },
  {
   "cell_type": "code",
   "execution_count": 16,
   "id": "90f73c37",
   "metadata": {},
   "outputs": [],
   "source": [
    "nomes = ['Passat', 'Crossfox', 'DS5', 'C4', 'Jetta']\n",
    "kms = [15000, 12000, 32000, 8000, 50000]"
   ]
  },
  {
   "cell_type": "code",
   "execution_count": 17,
   "id": "048b8092",
   "metadata": {},
   "outputs": [
    {
     "name": "stdout",
     "output_type": "stream",
     "text": [
      "Passat\n",
      "Crossfox\n",
      "C4\n"
     ]
    }
   ],
   "source": [
    "for nome, km in zip(nomes, kms):\n",
    "    if (km < 20000):\n",
    "        print(nome)"
   ]
  },
  {
   "cell_type": "code",
   "execution_count": 18,
   "id": "0de66f98",
   "metadata": {},
   "outputs": [],
   "source": [
    "dados = {\n",
    "    'Passat': {\n",
    "        'ano': 2012,\n",
    "        'km': 50000,\n",
    "        'valor': 75000,\n",
    "        'acessorios': ['Airbag', 'ABS']\n",
    "    }, \n",
    "    'Crossfox': {\n",
    "        'ano': 2015,\n",
    "        'km': 35000,\n",
    "        'valor': 25000\n",
    "    }\n",
    "}"
   ]
  },
  {
   "cell_type": "code",
   "execution_count": 24,
   "id": "0cc1f381",
   "metadata": {},
   "outputs": [
    {
     "data": {
      "text/plain": [
       "False"
      ]
     },
     "execution_count": 24,
     "metadata": {},
     "output_type": "execute_result"
    }
   ],
   "source": [
    "'acessorios' in dados['Crossfox']"
   ]
  },
  {
   "cell_type": "code",
   "execution_count": 21,
   "id": "a527a90a",
   "metadata": {},
   "outputs": [
    {
     "data": {
      "text/plain": [
       "True"
      ]
     },
     "execution_count": 21,
     "metadata": {},
     "output_type": "execute_result"
    }
   ],
   "source": [
    "'acessorios' in dados['Passat']"
   ]
  },
  {
   "cell_type": "code",
   "execution_count": 22,
   "id": "d35eed8b",
   "metadata": {},
   "outputs": [
    {
     "data": {
      "text/plain": [
       "25000"
      ]
     },
     "execution_count": 22,
     "metadata": {},
     "output_type": "execute_result"
    }
   ],
   "source": [
    "dados['Crossfox']['valor']"
   ]
  },
  {
   "cell_type": "code",
   "execution_count": 23,
   "id": "c5d16fd7",
   "metadata": {},
   "outputs": [
    {
     "data": {
      "text/plain": [
       "'ABS'"
      ]
     },
     "execution_count": 23,
     "metadata": {},
     "output_type": "execute_result"
    }
   ],
   "source": [
    "dados['Passat']['acessorios'][-1]"
   ]
  },
  {
   "cell_type": "code",
   "execution_count": 25,
   "id": "29de214d",
   "metadata": {},
   "outputs": [],
   "source": [
    "dados = {'Jetta': 88000, 'Crossfox': 72000, 'DS5': 124000}"
   ]
  },
  {
   "cell_type": "code",
   "execution_count": 26,
   "id": "ad21f870",
   "metadata": {},
   "outputs": [],
   "source": [
    "dados.update({'Passat': 45000,'Fusca': 150000})"
   ]
  },
  {
   "cell_type": "code",
   "execution_count": 27,
   "id": "29fe0a62",
   "metadata": {},
   "outputs": [
    {
     "data": {
      "text/plain": [
       "{'Jetta': 88000,\n",
       " 'Crossfox': 72000,\n",
       " 'DS5': 124000,\n",
       " 'Passat': 45000,\n",
       " 'Fusca': 150000}"
      ]
     },
     "execution_count": 27,
     "metadata": {},
     "output_type": "execute_result"
    }
   ],
   "source": [
    "dados"
   ]
  },
  {
   "cell_type": "code",
   "execution_count": 28,
   "id": "9f6f006c",
   "metadata": {},
   "outputs": [],
   "source": [
    "dados.update(Passat = 45000, Fusca = 150000)"
   ]
  },
  {
   "cell_type": "code",
   "execution_count": 29,
   "id": "684c80ae",
   "metadata": {},
   "outputs": [],
   "source": [
    "dados = {\n",
    "    'Crossfox': {'valor': 72000, 'ano': 2005}, \n",
    "    'DS5': {'valor': 125000, 'ano': 2015}, \n",
    "    'Fusca': {'valor': 150000, 'ano': 1976}, \n",
    "    'Jetta': {'valor': 88000, 'ano': 2010}, \n",
    "    'Passat': {'valor': 106000, 'ano': 1998}\n",
    "}"
   ]
  },
  {
   "cell_type": "code",
   "execution_count": null,
   "id": "3c183bf3",
   "metadata": {},
   "outputs": [],
   "source": []
  },
  {
   "cell_type": "code",
   "execution_count": 44,
   "id": "8d9aa668",
   "metadata": {},
   "outputs": [
    {
     "name": "stdout",
     "output_type": "stream",
     "text": [
      "{'valor': 72000, 'ano': 2005}\n",
      "{'valor': 125000, 'ano': 2015}\n",
      "{'valor': 150000, 'ano': 1976}\n",
      "{'valor': 88000, 'ano': 2010}\n",
      "{'valor': 106000, 'ano': 1998}\n"
     ]
    }
   ],
   "source": [
    "for item in dados.items():\n",
    "    print(item[1])"
   ]
  },
  {
   "cell_type": "markdown",
   "id": "3bf37fcb",
   "metadata": {},
   "source": [
    "IMPRIMA OS CARROS COM OS ANOS IGUAL OU MAIOR QUE 2000"
   ]
  },
  {
   "cell_type": "code",
   "execution_count": 40,
   "id": "58651bef",
   "metadata": {},
   "outputs": [
    {
     "name": "stdout",
     "output_type": "stream",
     "text": [
      "Crossfox\n",
      "DS5\n",
      "Jetta\n"
     ]
    }
   ],
   "source": [
    "for item in dados.items():\n",
    "    if(item[1]['ano'] >= 2000):\n",
    "        print(item[0])"
   ]
  },
  {
   "cell_type": "code",
   "execution_count": null,
   "id": "f3524929",
   "metadata": {},
   "outputs": [],
   "source": []
  },
  {
   "cell_type": "markdown",
   "id": "27cb42a4",
   "metadata": {},
   "source": [
    "IMPRIMA OS CARROS COM OS VALORES IGUAIS OU MAIORES QUE 100 MIL REAIS"
   ]
  },
  {
   "cell_type": "code",
   "execution_count": 45,
   "id": "09fbdbee",
   "metadata": {},
   "outputs": [
    {
     "name": "stdout",
     "output_type": "stream",
     "text": [
      "DS5\n",
      "Fusca\n",
      "Passat\n"
     ]
    }
   ],
   "source": [
    "for item in dados.items():\n",
    "    if(item[1]['valor']>= 100000):\n",
    "        print(item[0])"
   ]
  },
  {
   "cell_type": "markdown",
   "id": "320c880f",
   "metadata": {},
   "source": [
    "FORME UMA LISTA COM OS CARROS COM VALORES IGUAIS OU MAIORES QUE 100 MIL REAIS"
   ]
  },
  {
   "cell_type": "code",
   "execution_count": 51,
   "id": "b03735b1",
   "metadata": {},
   "outputs": [
    {
     "data": {
      "text/plain": [
       "['DS5', 'Fusca', 'Passat']"
      ]
     },
     "execution_count": 51,
     "metadata": {},
     "output_type": "execute_result"
    }
   ],
   "source": [
    "carros_100mil = []\n",
    "for item in dados.items():\n",
    "    if(item[1]['valor']>= 100000):\n",
    "        carros_100mil.append(item[0])\n",
    "carros_100mil\n"
   ]
  },
  {
   "cell_type": "code",
   "execution_count": null,
   "id": "7345406b",
   "metadata": {},
   "outputs": [],
   "source": [
    "lanches_lachonete = {'Coxinha': 7.25, 'Suco': 5.00, 'Esfirra': 8.00, ''}"
   ]
  },
  {
   "cell_type": "code",
   "execution_count": 26,
   "id": "b89dc1a6",
   "metadata": {},
   "outputs": [],
   "source": [
    "dados = {\n",
    "    'Crossfox': {'km': 35000, 'ano': 2005}, \n",
    "    'DS5': {'km': 17000, 'ano': 2015}, \n",
    "    'Fusca': {'km': 130000, 'ano': 1979}, \n",
    "    'Jetta': {'km': 56000, 'ano': 2011}, \n",
    "    'Passat': {'km': 62000, 'ano': 1999}\n",
    "}"
   ]
  },
  {
   "cell_type": "code",
   "execution_count": 27,
   "id": "9c3279db",
   "metadata": {},
   "outputs": [],
   "source": [
    "def km_media(dados, ano_atual):\n",
    "    result = {}\n",
    "    for item in dados.items():\n",
    "        media = item[1]['km']/ (ano_atual - item[1]['ano'])\n",
    "        result.update({item, media})\n",
    "        return result\n",
    "    "
   ]
  },
  {
   "cell_type": "code",
   "execution_count": 28,
   "id": "678fa5e2",
   "metadata": {
    "scrolled": true
   },
   "outputs": [
    {
     "ename": "TypeError",
     "evalue": "unhashable type: 'dict'",
     "output_type": "error",
     "traceback": [
      "\u001b[1;31m---------------------------------------------------------------------------\u001b[0m",
      "\u001b[1;31mTypeError\u001b[0m                                 Traceback (most recent call last)",
      "\u001b[1;32m~\\AppData\\Local\\Temp/ipykernel_5296/1760716709.py\u001b[0m in \u001b[0;36m<module>\u001b[1;34m\u001b[0m\n\u001b[1;32m----> 1\u001b[1;33m \u001b[0mkm_media\u001b[0m\u001b[1;33m(\u001b[0m\u001b[0mdados\u001b[0m\u001b[1;33m,\u001b[0m \u001b[1;36m2022\u001b[0m\u001b[1;33m)\u001b[0m\u001b[1;33m\u001b[0m\u001b[1;33m\u001b[0m\u001b[0m\n\u001b[0m",
      "\u001b[1;32m~\\AppData\\Local\\Temp/ipykernel_5296/1368829675.py\u001b[0m in \u001b[0;36mkm_media\u001b[1;34m(dados, ano_atual)\u001b[0m\n\u001b[0;32m      3\u001b[0m     \u001b[1;32mfor\u001b[0m \u001b[0mitem\u001b[0m \u001b[1;32min\u001b[0m \u001b[0mdados\u001b[0m\u001b[1;33m.\u001b[0m\u001b[0mitems\u001b[0m\u001b[1;33m(\u001b[0m\u001b[1;33m)\u001b[0m\u001b[1;33m:\u001b[0m\u001b[1;33m\u001b[0m\u001b[1;33m\u001b[0m\u001b[0m\n\u001b[0;32m      4\u001b[0m         \u001b[0mmedia\u001b[0m \u001b[1;33m=\u001b[0m \u001b[0mitem\u001b[0m\u001b[1;33m[\u001b[0m\u001b[1;36m1\u001b[0m\u001b[1;33m]\u001b[0m\u001b[1;33m[\u001b[0m\u001b[1;34m'km'\u001b[0m\u001b[1;33m]\u001b[0m\u001b[1;33m/\u001b[0m \u001b[1;33m(\u001b[0m\u001b[0mano_atual\u001b[0m \u001b[1;33m-\u001b[0m \u001b[0mitem\u001b[0m\u001b[1;33m[\u001b[0m\u001b[1;36m1\u001b[0m\u001b[1;33m]\u001b[0m\u001b[1;33m[\u001b[0m\u001b[1;34m'ano'\u001b[0m\u001b[1;33m]\u001b[0m\u001b[1;33m)\u001b[0m\u001b[1;33m\u001b[0m\u001b[1;33m\u001b[0m\u001b[0m\n\u001b[1;32m----> 5\u001b[1;33m         \u001b[0mresult\u001b[0m\u001b[1;33m.\u001b[0m\u001b[0mupdate\u001b[0m\u001b[1;33m(\u001b[0m\u001b[1;33m{\u001b[0m\u001b[0mitem\u001b[0m\u001b[1;33m,\u001b[0m \u001b[0mmedia\u001b[0m\u001b[1;33m}\u001b[0m\u001b[1;33m)\u001b[0m\u001b[1;33m\u001b[0m\u001b[1;33m\u001b[0m\u001b[0m\n\u001b[0m\u001b[0;32m      6\u001b[0m         \u001b[1;32mreturn\u001b[0m \u001b[0mresult\u001b[0m\u001b[1;33m\u001b[0m\u001b[1;33m\u001b[0m\u001b[0m\n\u001b[0;32m      7\u001b[0m \u001b[1;33m\u001b[0m\u001b[0m\n",
      "\u001b[1;31mTypeError\u001b[0m: unhashable type: 'dict'"
     ]
    }
   ],
   "source": [
    "km_media(dados, 2022)"
   ]
  },
  {
   "cell_type": "code",
   "execution_count": 30,
   "id": "fb354aab",
   "metadata": {},
   "outputs": [],
   "source": [
    "dados = {'Crossfox': {'km': 35000, 'ano': 2005, 'km_media': 2500.0},\n",
    " 'DS5': {'km': 17000, 'ano': 2015, 'km_media': 4250.0},\n",
    " 'Fusca': {'km': 130000, 'ano': 1979, 'km_media': 3250.0},\n",
    " 'Jetta': {'km': 56000, 'ano': 2011, 'km_media': 7000.0},\n",
    " 'Passat': {'km': 62000, 'ano': 1999, 'km_media': 3100.0}}"
   ]
  },
  {
   "cell_type": "code",
   "execution_count": null,
   "id": "4f37a141",
   "metadata": {},
   "outputs": [],
   "source": [
    "dataset = pd.DataFrame()"
   ]
  }
 ],
 "metadata": {
  "kernelspec": {
   "display_name": "Python 3 (ipykernel)",
   "language": "python",
   "name": "python3"
  },
  "language_info": {
   "codemirror_mode": {
    "name": "ipython",
    "version": 3
   },
   "file_extension": ".py",
   "mimetype": "text/x-python",
   "name": "python",
   "nbconvert_exporter": "python",
   "pygments_lexer": "ipython3",
   "version": "3.9.7"
  }
 },
 "nbformat": 4,
 "nbformat_minor": 5
}
